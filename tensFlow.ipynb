{
 "cells": [
  {
   "cell_type": "code",
   "execution_count": 25,
   "metadata": {},
   "outputs": [
    {
     "ename": "SyntaxError",
     "evalue": "expected 'else' after 'if' expression (3353314281.py, line 12)",
     "output_type": "error",
     "traceback": [
      "\u001b[0;36m  Cell \u001b[0;32mIn[25], line 12\u001b[0;36m\u001b[0m\n\u001b[0;31m    device = 'cuda:0' if torch.cuda is_available() else 'cpu'\u001b[0m\n\u001b[0m             ^\u001b[0m\n\u001b[0;31mSyntaxError\u001b[0m\u001b[0;31m:\u001b[0m expected 'else' after 'if' expression\n"
     ]
    }
   ],
   "source": [
    "import pandas as pd\n",
    "import numpy as np\n",
    "import matplotlib.pyplot as plt\n",
    "\n",
    "import torch\n",
    "import torch.nn as nn\n",
    "\n",
    "data = pd.read_csv('AMZN.csv')\n",
    "\n",
    "data = data[['Date','Close']]\n",
    "data"
   ]
  },
  {
   "cell_type": "code",
   "execution_count": 4,
   "metadata": {},
   "outputs": [
    {
     "data": {
      "text/plain": [
       "[<matplotlib.lines.Line2D at 0x141196810>]"
      ]
     },
     "execution_count": 4,
     "metadata": {},
     "output_type": "execute_result"
    },
    {
     "data": {
      "image/png": "[encoded data removed]",
      "text/plain": [
       "<Figure size 640x480 with 1 Axes>"
      ]
     },
     "metadata": {},
     "output_type": "display_data"
    }
   ],
   "source": [
    "data['Date']=pd.to_datetime(data['Date'])\n",
    "plt.plot(data['Date'],data['Close'])"
   ]
  },
  {
   "cell_type": "code",
   "execution_count": 5,
   "metadata": {},
   "outputs": [
    {
     "data": {
      "text/html": [
       "<div>\n",
       "<style scoped>\n",
       "    .dataframe tbody tr th:only-of-type {\n",
       "        vertical-align: middle;\n",
       "    }\n",
       "\n",
       "    .dataframe tbody tr th {\n",
       "        vertical-align: top;\n",
       "    }\n",
       "\n",
       "    .dataframe thead th {\n",
       "        text-align: right;\n",
       "    }\n",
       "</style>\n",
       "<table border=\"1\" class=\"dataframe\">\n",
       "  <thead>\n",
       "    <tr style=\"text-align: right;\">\n",
       "      <th></th>\n",
       "      <th>Close</th>\n",
       "      <th>Close(t-1)</th>\n",
       "      <th>Close(t-2)</th>\n",
       "      <th>Close(t-3)</th>\n",
       "      <th>Close(t-4)</th>\n",
       "      <th>Close(t-5)</th>\n",
       "      <th>Close(t-6)</th>\n",
       "      <th>Close(t-7)</th>\n",
       "    </tr>\n",
       "    <tr>\n",
       "      <th>Date</th>\n",
       "      <th></th>\n",
       "      <th></th>\n",
       "      <th></th>\n",
       "      <th></th>\n",
       "      <th></th>\n",
       "      <th></th>\n",
       "      <th></th>\n",
       "      <th></th>\n",
       "    </tr>\n",
       "  </thead>\n",
       "  <tbody>\n",
       "    <tr>\n",
       "      <th>1997-05-27</th>\n",
       "      <td>0.079167</td>\n",
       "      <td>0.075000</td>\n",
       "      <td>0.069792</td>\n",
       "      <td>0.071354</td>\n",
       "      <td>0.081771</td>\n",
       "      <td>0.085417</td>\n",
       "      <td>0.086458</td>\n",
       "      <td>0.097917</td>\n",
       "    </tr>\n",
       "    <tr>\n",
       "      <th>1997-05-28</th>\n",
       "      <td>0.076563</td>\n",
       "      <td>0.079167</td>\n",
       "      <td>0.075000</td>\n",
       "      <td>0.069792</td>\n",
       "      <td>0.071354</td>\n",
       "      <td>0.081771</td>\n",
       "      <td>0.085417</td>\n",
       "      <td>0.086458</td>\n",
       "    </tr>\n",
       "    <tr>\n",
       "      <th>1997-05-29</th>\n",
       "      <td>0.075260</td>\n",
       "      <td>0.076563</td>\n",
       "      <td>0.079167</td>\n",
       "      <td>0.075000</td>\n",
       "      <td>0.069792</td>\n",
       "      <td>0.071354</td>\n",
       "      <td>0.081771</td>\n",
       "      <td>0.085417</td>\n",
       "    </tr>\n",
       "    <tr>\n",
       "      <th>1997-05-30</th>\n",
       "      <td>0.075000</td>\n",
       "      <td>0.075260</td>\n",
       "      <td>0.076563</td>\n",
       "      <td>0.079167</td>\n",
       "      <td>0.075000</td>\n",
       "      <td>0.069792</td>\n",
       "      <td>0.071354</td>\n",
       "      <td>0.081771</td>\n",
       "    </tr>\n",
       "    <tr>\n",
       "      <th>1997-06-02</th>\n",
       "      <td>0.075521</td>\n",
       "      <td>0.075000</td>\n",
       "      <td>0.075260</td>\n",
       "      <td>0.076563</td>\n",
       "      <td>0.079167</td>\n",
       "      <td>0.075000</td>\n",
       "      <td>0.069792</td>\n",
       "      <td>0.071354</td>\n",
       "    </tr>\n",
       "    <tr>\n",
       "      <th>...</th>\n",
       "      <td>...</td>\n",
       "      <td>...</td>\n",
       "      <td>...</td>\n",
       "      <td>...</td>\n",
       "      <td>...</td>\n",
       "      <td>...</td>\n",
       "      <td>...</td>\n",
       "      <td>...</td>\n",
       "    </tr>\n",
       "    <tr>\n",
       "      <th>2023-03-30</th>\n",
       "      <td>102.000000</td>\n",
       "      <td>100.250000</td>\n",
       "      <td>97.239998</td>\n",
       "      <td>98.040001</td>\n",
       "      <td>98.129997</td>\n",
       "      <td>98.709999</td>\n",
       "      <td>98.699997</td>\n",
       "      <td>100.610001</td>\n",
       "    </tr>\n",
       "    <tr>\n",
       "      <th>2023-03-31</th>\n",
       "      <td>103.290001</td>\n",
       "      <td>102.000000</td>\n",
       "      <td>100.250000</td>\n",
       "      <td>97.239998</td>\n",
       "      <td>98.040001</td>\n",
       "      <td>98.129997</td>\n",
       "      <td>98.709999</td>\n",
       "      <td>98.699997</td>\n",
       "    </tr>\n",
       "    <tr>\n",
       "      <th>2023-04-03</th>\n",
       "      <td>102.410004</td>\n",
       "      <td>103.290001</td>\n",
       "      <td>102.000000</td>\n",
       "      <td>100.250000</td>\n",
       "      <td>97.239998</td>\n",
       "      <td>98.040001</td>\n",
       "      <td>98.129997</td>\n",
       "      <td>98.709999</td>\n",
       "    </tr>\n",
       "    <tr>\n",
       "      <th>2023-04-04</th>\n",
       "      <td>103.949997</td>\n",
       "      <td>102.410004</td>\n",
       "      <td>103.290001</td>\n",
       "      <td>102.000000</td>\n",
       "      <td>100.250000</td>\n",
       "      <td>97.239998</td>\n",
       "      <td>98.040001</td>\n",
       "      <td>98.129997</td>\n",
       "    </tr>\n",
       "    <tr>\n",
       "      <th>2023-04-05</th>\n",
       "      <td>101.099998</td>\n",
       "      <td>103.949997</td>\n",
       "      <td>102.410004</td>\n",
       "      <td>103.290001</td>\n",
       "      <td>102.000000</td>\n",
       "      <td>100.250000</td>\n",
       "      <td>97.239998</td>\n",
       "      <td>98.040001</td>\n",
       "    </tr>\n",
       "  </tbody>\n",
       "</table>\n",
       "<p>6509 rows × 8 columns</p>\n",
       "</div>"
      ],
      "text/plain": [
       "                 Close  Close(t-1)  Close(t-2)  Close(t-3)  Close(t-4)  \\\n",
       "Date                                                                     \n",
       "1997-05-27    0.079167    0.075000    0.069792    0.071354    0.081771   \n",
       "1997-05-28    0.076563    0.079167    0.075000    0.069792    0.071354   \n",
       "1997-05-29    0.075260    0.076563    0.079167    0.075000    0.069792   \n",
       "1997-05-30    0.075000    0.075260    0.076563    0.079167    0.075000   \n",
       "1997-06-02    0.075521    0.075000    0.075260    0.076563    0.079167   \n",
       "...                ...         ...         ...         ...         ...   \n",
       "2023-03-30  102.000000  100.250000   97.239998   98.040001   98.129997   \n",
       "2023-03-31  103.290001  102.000000  100.250000   97.239998   98.040001   \n",
       "2023-04-03  102.410004  103.290001  102.000000  100.250000   97.239998   \n",
       "2023-04-04  103.949997  102.410004  103.290001  102.000000  100.250000   \n",
       "2023-04-05  101.099998  103.949997  102.410004  103.290001  102.000000   \n",
       "\n",
       "            Close(t-5)  Close(t-6)  Close(t-7)  \n",
       "Date                                            \n",
       "1997-05-27    0.085417    0.086458    0.097917  \n",
       "1997-05-28    0.081771    0.085417    0.086458  \n",
       "1997-05-29    0.071354    0.081771    0.085417  \n",
       "1997-05-30    0.069792    0.071354    0.081771  \n",
       "1997-06-02    0.075000    0.069792    0.071354  \n",
       "...                ...         ...         ...  \n",
       "2023-03-30   98.709999   98.699997  100.610001  \n",
       "2023-03-31   98.129997   98.709999   98.699997  \n",
       "2023-04-03   98.040001   98.129997   98.709999  \n",
       "2023-04-04   97.239998   98.040001   98.129997  \n",
       "2023-04-05  100.250000   97.239998   98.040001  \n",
       "\n",
       "[6509 rows x 8 columns]"
      ]
     },
     "execution_count": 5,
     "metadata": {},
     "output_type": "execute_result"
    }
   ],
   "source": [
    "from copy import deepcopy as dc\n",
    "\n",
    "def prepare_dataframe(df,n_steps):\n",
    "  df = dc(df)\n",
    "\n",
    "  df.set_index('Date',inplace=True)\n",
    "  for i in range(1, n_steps+1):\n",
    "    df[f'Close(t-{i})']=df['Close'].shift(i)\n",
    "  df.dropna(inplace=True)\n",
    "  return df\n",
    "\n",
    "lookback = 7\n",
    "shifted_df = prepare_dataframe(data, lookback)\n",
    "shifted_df"
   ]
  },
  {
   "cell_type": "code",
   "execution_count": 49,
   "metadata": {},
   "outputs": [
    {
     "data": {
      "text/plain": [
       "'cpu'"
      ]
     },
     "execution_count": 49,
     "metadata": {},
     "output_type": "execute_result"
    }
   ],
   "source": [
    "device = 'cuda:0' if torch.cuda.is_available() else 'cpu'\n",
    "device"
   ]
  },
  {
   "cell_type": "code",
   "execution_count": 50,
   "metadata": {},
   "outputs": [
    {
     "data": {
      "text/plain": [
       "array([[7.91670000e-02, 7.50000000e-02, 6.97920000e-02, ...,\n",
       "        8.54170000e-02, 8.64580000e-02, 9.79170000e-02],\n",
       "       [7.65630000e-02, 7.91670000e-02, 7.50000000e-02, ...,\n",
       "        8.17710000e-02, 8.54170000e-02, 8.64580000e-02],\n",
       "       [7.52600000e-02, 7.65630000e-02, 7.91670000e-02, ...,\n",
       "        7.13540000e-02, 8.17710000e-02, 8.54170000e-02],\n",
       "       ...,\n",
       "       [1.02410004e+02, 1.03290001e+02, 1.02000000e+02, ...,\n",
       "        9.80400010e+01, 9.81299970e+01, 9.87099990e+01],\n",
       "       [1.03949997e+02, 1.02410004e+02, 1.03290001e+02, ...,\n",
       "        9.72399980e+01, 9.80400010e+01, 9.81299970e+01],\n",
       "       [1.01099998e+02, 1.03949997e+02, 1.02410004e+02, ...,\n",
       "        1.00250000e+02, 9.72399980e+01, 9.80400010e+01]], shape=(6509, 8))"
      ]
     },
     "execution_count": 50,
     "metadata": {},
     "output_type": "execute_result"
    }
   ],
   "source": [
    "shifted_df_as_np = shifted_df.to_numpy()\n",
    "shifted_df_as_np"
   ]
  },
  {
   "cell_type": "code",
   "execution_count": 9,
   "metadata": {},
   "outputs": [
    {
     "data": {
      "text/plain": [
       "array([[-0.99991063, -0.99995531, -1.        , ..., -0.99983244,\n",
       "        -0.99982128, -0.99969839],\n",
       "       [-0.99993855, -0.99991063, -0.99994415, ..., -0.99987154,\n",
       "        -0.99983244, -0.99982128],\n",
       "       [-0.99995253, -0.99993855, -0.99989946, ..., -0.99998325,\n",
       "        -0.99987154, -0.99983244],\n",
       "       ...,\n",
       "       [ 0.09747299,  0.10690997,  0.09308121, ...,  0.0506149 ,\n",
       "         0.05158   ,  0.05779984],\n",
       "       [ 0.11398769,  0.09747299,  0.10691495, ...,  0.04203581,\n",
       "         0.0506149 ,  0.05158   ],\n",
       "       [ 0.08342464,  0.11398769,  0.09747802, ...,  0.07431453,\n",
       "         0.04203581,  0.0506149 ]], shape=(6509, 8))"
      ]
     },
     "execution_count": 9,
     "metadata": {},
     "output_type": "execute_result"
    }
   ],
   "source": [
    "from sklearn.preprocessing import MinMaxScaler\n",
    "\n",
    "scaler = MinMaxScaler(feature_range=(-1,1))\n",
    "shifted_df_as_np = scaler.fit_transform(shifted_df_as_np)\n",
    "shifted_df_as_np"
   ]
  },
  {
   "cell_type": "code",
   "execution_count": 10,
   "metadata": {},
   "outputs": [
    {
     "data": {
      "text/plain": [
       "((6509, 7), (6509,))"
      ]
     },
     "execution_count": 10,
     "metadata": {},
     "output_type": "execute_result"
    }
   ],
   "source": [
    "X = shifted_df_as_np[:,1:]\n",
    "y = shifted_df_as_np[:,0]\n",
    "\n",
    "X.shape, y.shape"
   ]
  },
  {
   "cell_type": "code",
   "execution_count": 12,
   "metadata": {},
   "outputs": [
    {
     "data": {
      "text/plain": [
       "array([[-0.99995531, -1.        , -0.99998325, ..., -0.99983244,\n",
       "        -0.99982128, -0.99969839],\n",
       "       [-0.99991063, -0.99994415, -1.        , ..., -0.99987154,\n",
       "        -0.99983244, -0.99982128],\n",
       "       [-0.99993855, -0.99989946, -0.99994415, ..., -0.99998325,\n",
       "        -0.99987154, -0.99983244],\n",
       "       ...,\n",
       "       [ 0.10690997,  0.09308121,  0.07431453, ...,  0.0506149 ,\n",
       "         0.05158   ,  0.05779984],\n",
       "       [ 0.09747299,  0.10691495,  0.09308121, ...,  0.04203581,\n",
       "         0.0506149 ,  0.05158   ],\n",
       "       [ 0.11398769,  0.09747802,  0.10691495, ...,  0.07431453,\n",
       "         0.04203581,  0.0506149 ]], shape=(6509, 7))"
      ]
     },
     "execution_count": 12,
     "metadata": {},
     "output_type": "execute_result"
    }
   ],
   "source": [
    "X = dc(np.flip(X, axis = 1))\n",
    "X\n"
   ]
  },
  {
   "cell_type": "code",
   "execution_count": 13,
   "metadata": {},
   "outputs": [
    {
     "data": {
      "text/plain": [
       "6183"
      ]
     },
     "execution_count": 13,
     "metadata": {},
     "output_type": "execute_result"
    }
   ],
   "source": [
    "split_index = int(len(X)*0.95)\n",
    "split_index"
   ]
  },
  {
   "cell_type": "code",
   "execution_count": 51,
   "metadata": {},
   "outputs": [
    {
     "data": {
      "text/plain": [
       "((6183, 7), (326, 7), (6183,), (326,))"
      ]
     },
     "execution_count": 51,
     "metadata": {},
     "output_type": "execute_result"
    }
   ],
   "source": [
    "X_train = X[:split_index]\n",
    "X_test = X[split_index:]\n",
    "\n",
    "y_train = y[:split_index]\n",
    "y_test = y[split_index:]\n",
    "X_train.shape, X_test.shape, y_train.shape, y_test.shape"
   ]
  },
  {
   "cell_type": "code",
   "execution_count": 52,
   "metadata": {},
   "outputs": [
    {
     "data": {
      "text/plain": [
       "((6183, 7, 1), (326, 7, 1), (6183, 1), (326, 1))"
      ]
     },
     "execution_count": 52,
     "metadata": {},
     "output_type": "execute_result"
    }
   ],
   "source": [
    "X_train = X_train.reshape((-1, lookback, 1))\n",
    "X_test = X_test.reshape((-1, lookback, 1))\n",
    "\n",
    "y_test = y_test.reshape((-1, 1))\n",
    "y_train = y_train.reshape((-1, 1))\n",
    "\n",
    "X_train.shape, X_test.shape, y_train.shape, y_test.shape\n"
   ]
  },
  {
   "cell_type": "code",
   "execution_count": 53,
   "metadata": {},
   "outputs": [
    {
     "data": {
      "text/plain": [
       "(torch.Size([6183, 7, 1]),\n",
       " torch.Size([326, 7, 1]),\n",
       " torch.Size([6183, 1]),\n",
       " torch.Size([326, 1]))"
      ]
     },
     "execution_count": 53,
     "metadata": {},
     "output_type": "execute_result"
    }
   ],
   "source": [
    "X_train = torch.tensor(X_train).float()\n",
    "X_test = torch.tensor(X_test).float()\n",
    "y_train = torch.tensor(y_train).float()\n",
    "y_test = torch.tensor(y_test).float()\n",
    "\n",
    "X_train.shape, X_test.shape, y_train.shape, y_test.shape"
   ]
  },
  {
   "cell_type": "code",
   "execution_count": 54,
   "metadata": {},
   "outputs": [],
   "source": [
    "from torch.utils.data import Dataset\n",
    "\n",
    "class TimeSeries(Dataset):\n",
    "  def __init__(self, X, y):\n",
    "    self.X = X\n",
    "    self.y = y\n",
    "  def __len__(self):\n",
    "    return len(self.X)\n",
    "  def __getitem__(self, i):\n",
    "    return self.X[i], self.y[i]\n",
    "\n",
    "train_dataset = TimeSeries(X_train, y_train)\n",
    "test_dataset = TimeSeries(X_test, y_test)"
   ]
  },
  {
   "cell_type": "code",
   "execution_count": 55,
   "metadata": {},
   "outputs": [
    {
     "data": {
      "text/plain": [
       "<__main__.TimeSeries at 0x14a51f4a0>"
      ]
     },
     "execution_count": 55,
     "metadata": {},
     "output_type": "execute_result"
    }
   ],
   "source": [
    "train_dataset"
   ]
  },
  {
   "cell_type": "code",
   "execution_count": 56,
   "metadata": {},
   "outputs": [],
   "source": [
    "from torch.utils.data import DataLoader\n",
    "batch_size = 16\n",
    "\n",
    "train_loader = DataLoader(train_dataset, batch_size=batch_size, shuffle=True)\n",
    "test_loader = DataLoader(test_dataset, batch_size=batch_size, shuffle=False)"
   ]
  },
  {
   "cell_type": "code",
   "execution_count": 57,
   "metadata": {},
   "outputs": [
    {
     "name": "stdout",
     "output_type": "stream",
     "text": [
      "torch.Size([16, 7, 1]) torch.Size([16, 1])\n"
     ]
    }
   ],
   "source": [
    "for _, batch in enumerate(train_loader):\n",
    "    x_batch, y_batch = batch[0].to(device), batch[1].to(device)\n",
    "    print(x_batch.shape, y_batch.shape)\n",
    "    break"
   ]
  },
  {
   "cell_type": "code",
   "execution_count": 58,
   "metadata": {},
   "outputs": [
    {
     "data": {
      "text/plain": [
       "LSTM(\n",
       "  (lstm): LSTM(1, 4, batch_first=True)\n",
       "  (fc): Linear(in_features=4, out_features=1, bias=True)\n",
       ")"
      ]
     },
     "execution_count": 58,
     "metadata": {},
     "output_type": "execute_result"
    }
   ],
   "source": [
    "class LSTM(nn.Module):\n",
    "    def __init__(self, input_size, hidden_size, num_stacked_layers):\n",
    "        super().__init__()\n",
    "        self.hidden_size = hidden_size\n",
    "        self.num_stacked_layers = num_stacked_layers\n",
    "        self.lstm = nn.LSTM(input_size, hidden_size, num_stacked_layers, batch_first=True)\n",
    "        self.fc = nn.Linear(hidden_size, 1)\n",
    "        \n",
    "    def forward(self, x):\n",
    "        batch_size = x.size(0)\n",
    "        h0 = torch.zeros(self.num_stacked_layers, batch_size, self.hidden_size).to(device)\n",
    "        c0 = torch.zeros(self.num_stacked_layers, batch_size, self.hidden_size).to(device)\n",
    "        out, _ = self.lstm(x, (h0, c0))\n",
    "        out = self.fc(out[:, -1, :])\n",
    "        return out\n",
    "model = LSTM(1,4,1)\n",
    "model.to(device)\n",
    "model"
   ]
  },
  {
   "cell_type": "code",
   "execution_count": 59,
   "metadata": {},
   "outputs": [],
   "source": [
    "def train_one_epoch():\n",
    "    model.train(True)\n",
    "    print(f'Epoch: {epoch + 1}')\n",
    "    running_loss = 0.0\n",
    "    \n",
    "    \n",
    "    for batch_index, batch in enumerate(train_loader):\n",
    "        x_batch, y_batch = batch[0].to(device), batch[1].to(device)\n",
    "        \n",
    "        output = model(x_batch)\n",
    "        loss = loss_function(output, y_batch)\n",
    "        running_loss += loss.item()\n",
    "        \n",
    "        optimizer.zero_grad()\n",
    "        loss.backward()\n",
    "        optimizer.step()\n",
    "        \n",
    "        if batch_index % 100 == 99:\n",
    "            avg_loss_across_batches = running_loss/ 100\n",
    "            print('Batch: {0}, Loss: {1:.3f}'.format(batch_index+1, avg_loss_across_batches))\n",
    "            running_loss = 0.0\n",
    "    print()"
   ]
  },
  {
   "cell_type": "code",
   "execution_count": 60,
   "metadata": {},
   "outputs": [],
   "source": [
    "def validate_one_epoch():\n",
    "    model.train(False)\n",
    "    running_loss = 0.0\n",
    "    for batch_index, batch in enumerate(test_loader):\n",
    "        x_batch, y_batch = batch[0].to(device), batch[1].to(device)\n",
    "        \n",
    "        with torch.no_grad():\n",
    "            output = model(x_batch)\n",
    "            loss = loss_function(output, y_batch)\n",
    "            running_loss += loss.item()\n",
    "            \n",
    "            \n",
    "    avg_loss_across_batches = running_loss / len(test_loader)\n",
    "    \n",
    "    print('Val loss: {0:.3f}'.format(avg_loss_across_batches))\n",
    "    print('****************************************************************')\n",
    "    print()\n",
    "        "
   ]
  },
  {
   "cell_type": "code",
   "execution_count": 64,
   "metadata": {},
   "outputs": [
    {
     "name": "stdout",
     "output_type": "stream",
     "text": [
      "Epoch: 1\n",
      "Batch: 100, Loss: 0.000\n",
      "Batch: 200, Loss: 0.000\n",
      "Batch: 300, Loss: 0.000\n",
      "\n",
      "Val loss: 0.006\n",
      "****************************************************************\n",
      "\n",
      "Epoch: 2\n",
      "Batch: 100, Loss: 0.000\n",
      "Batch: 200, Loss: 0.000\n",
      "Batch: 300, Loss: 0.000\n",
      "\n",
      "Val loss: 0.006\n",
      "****************************************************************\n",
      "\n",
      "Epoch: 3\n",
      "Batch: 100, Loss: 0.000\n",
      "Batch: 200, Loss: 0.000\n",
      "Batch: 300, Loss: 0.000\n",
      "\n",
      "Val loss: 0.005\n",
      "****************************************************************\n",
      "\n",
      "Epoch: 4\n",
      "Batch: 100, Loss: 0.000\n",
      "Batch: 200, Loss: 0.000\n",
      "Batch: 300, Loss: 0.000\n",
      "\n",
      "Val loss: 0.005\n",
      "****************************************************************\n",
      "\n",
      "Epoch: 5\n",
      "Batch: 100, Loss: 0.000\n",
      "Batch: 200, Loss: 0.000\n",
      "Batch: 300, Loss: 0.000\n",
      "\n",
      "Val loss: 0.005\n",
      "****************************************************************\n",
      "\n",
      "Epoch: 6\n",
      "Batch: 100, Loss: 0.000\n",
      "Batch: 200, Loss: 0.000\n",
      "Batch: 300, Loss: 0.000\n",
      "\n",
      "Val loss: 0.005\n",
      "****************************************************************\n",
      "\n",
      "Epoch: 7\n",
      "Batch: 100, Loss: 0.000\n",
      "Batch: 200, Loss: 0.000\n",
      "Batch: 300, Loss: 0.000\n",
      "\n",
      "Val loss: 0.006\n",
      "****************************************************************\n",
      "\n",
      "Epoch: 8\n",
      "Batch: 100, Loss: 0.000\n",
      "Batch: 200, Loss: 0.000\n",
      "Batch: 300, Loss: 0.000\n",
      "\n",
      "Val loss: 0.005\n",
      "****************************************************************\n",
      "\n",
      "Epoch: 9\n",
      "Batch: 100, Loss: 0.000\n",
      "Batch: 200, Loss: 0.000\n",
      "Batch: 300, Loss: 0.000\n",
      "\n",
      "Val loss: 0.006\n",
      "****************************************************************\n",
      "\n",
      "Epoch: 10\n",
      "Batch: 100, Loss: 0.000\n",
      "Batch: 200, Loss: 0.000\n",
      "Batch: 300, Loss: 0.000\n",
      "\n",
      "Val loss: 0.006\n",
      "****************************************************************\n",
      "\n",
      "Epoch: 11\n",
      "Batch: 100, Loss: 0.000\n",
      "Batch: 200, Loss: 0.000\n",
      "Batch: 300, Loss: 0.000\n",
      "\n",
      "Val loss: 0.005\n",
      "****************************************************************\n",
      "\n",
      "Epoch: 12\n",
      "Batch: 100, Loss: 0.000\n",
      "Batch: 200, Loss: 0.000\n",
      "Batch: 300, Loss: 0.000\n",
      "\n",
      "Val loss: 0.005\n",
      "****************************************************************\n",
      "\n",
      "Epoch: 13\n",
      "Batch: 100, Loss: 0.000\n",
      "Batch: 200, Loss: 0.000\n",
      "Batch: 300, Loss: 0.000\n",
      "\n",
      "Val loss: 0.004\n",
      "****************************************************************\n",
      "\n",
      "Epoch: 14\n",
      "Batch: 100, Loss: 0.000\n",
      "Batch: 200, Loss: 0.000\n",
      "Batch: 300, Loss: 0.000\n",
      "\n",
      "Val loss: 0.005\n",
      "****************************************************************\n",
      "\n",
      "Epoch: 15\n",
      "Batch: 100, Loss: 0.000\n",
      "Batch: 200, Loss: 0.000\n",
      "Batch: 300, Loss: 0.000\n",
      "\n",
      "Val loss: 0.005\n",
      "****************************************************************\n",
      "\n",
      "Epoch: 16\n",
      "Batch: 100, Loss: 0.000\n",
      "Batch: 200, Loss: 0.000\n",
      "Batch: 300, Loss: 0.000\n",
      "\n",
      "Val loss: 0.005\n",
      "****************************************************************\n",
      "\n",
      "Epoch: 17\n",
      "Batch: 100, Loss: 0.000\n",
      "Batch: 200, Loss: 0.000\n",
      "Batch: 300, Loss: 0.000\n",
      "\n",
      "Val loss: 0.005\n",
      "****************************************************************\n",
      "\n",
      "Epoch: 18\n",
      "Batch: 100, Loss: 0.000\n",
      "Batch: 200, Loss: 0.000\n",
      "Batch: 300, Loss: 0.000\n",
      "\n",
      "Val loss: 0.005\n",
      "****************************************************************\n",
      "\n",
      "Epoch: 19\n",
      "Batch: 100, Loss: 0.000\n",
      "Batch: 200, Loss: 0.000\n",
      "Batch: 300, Loss: 0.000\n",
      "\n",
      "Val loss: 0.005\n",
      "****************************************************************\n",
      "\n",
      "Epoch: 20\n",
      "Batch: 100, Loss: 0.000\n",
      "Batch: 200, Loss: 0.000\n",
      "Batch: 300, Loss: 0.000\n",
      "\n",
      "Val loss: 0.005\n",
      "****************************************************************\n",
      "\n"
     ]
    }
   ],
   "source": [
    "learning_rate = 0.001\n",
    "num_epochs = 10\n",
    "loss_function = nn.MSELoss()\n",
    "optimizer = torch.optim.Adam(model.parameters(), lr=learning_rate)\n",
    "\n",
    "for epoch in range(num_epochs):\n",
    "    train_one_epoch()\n",
    "    validate_one_epoch()"
   ]
  },
  {
   "cell_type": "code",
   "execution_count": 62,
   "metadata": {},
   "outputs": [
    {
     "data": {
      "image/png": "[encoded data removed]",
      "text/plain": [
       "<Figure size 640x480 with 1 Axes>"
      ]
     },
     "metadata": {},
     "output_type": "display_data"
    }
   ],
   "source": [
    "with torch.no_grad():\n",
    "    predicted = model(X_train.to(device)).to('cpu').numpy()\n",
    "    \n",
    "plt.plot(y_train, label='True')\n",
    "plt.plot(predicted, label='Predicted')\n",
    "plt.xlabel('Day')\n",
    "plt.ylabel('Close')\n",
    "plt.legend()\n",
    "plt.show()"
   ]
  },
  {
   "cell_type": "code",
   "execution_count": 66,
   "metadata": {},
   "outputs": [
    {
     "data": {
      "text/plain": [
       "array([  0.49318366,   0.49097152,   0.48999329, ..., 168.38664057,\n",
       "       168.66676997, 168.81282077], shape=(6183,))"
      ]
     },
     "execution_count": 66,
     "metadata": {},
     "output_type": "execute_result"
    }
   ],
   "source": [
    "train_predictions = predicted.flatten()\n",
    "\n",
    "\n",
    "dummies = np.zeros((X_train.shape[0], lookback+1))\n",
    "dummies[:,0] = train_predictions\n",
    "dummies = scaler.inverse_transform(dummies)\n",
    "\n",
    "train_predictions = dc(dummies[:,0])\n",
    "train_predictions"
   ]
  },
  {
   "cell_type": "code",
   "execution_count": 67,
   "metadata": {},
   "outputs": [
    {
     "name": "stderr",
     "output_type": "stream",
     "text": [
      "/var/folders/d7/80fz355j2730tx2lwyv6vf1w0000gn/T/ipykernel_31860/1256457756.py:2: DeprecationWarning: __array__ implementation doesn't accept a copy keyword, so passing copy=False failed. __array__ must implement 'dtype' and 'copy' keyword arguments. To learn more, see the migration guide https://numpy.org/devdocs/numpy_2_0_migration_guide.html#adapting-to-changes-in-the-copy-keyword\n",
      "  dummies[:,0] = y_train.flatten()\n"
     ]
    },
    {
     "data": {
      "text/plain": [
       "array([7.91646265e-02, 7.65634249e-02, 7.52572660e-02, ...,\n",
       "       1.69091505e+02, 1.73315001e+02, 1.68871003e+02], shape=(6183,))"
      ]
     },
     "execution_count": 67,
     "metadata": {},
     "output_type": "execute_result"
    }
   ],
   "source": [
    "dummies = np.zeros((X_train.shape[0], lookback+1))\n",
    "dummies[:,0] = y_train.flatten()\n",
    "dummies = scaler.inverse_transform(dummies)\n",
    "\n",
    "new_y_train = dc(dummies[:,0])\n",
    "new_y_train"
   ]
  },
  {
   "cell_type": "code",
   "execution_count": 70,
   "metadata": {},
   "outputs": [
    {
     "data": {
      "image/png": "[encoded data removed]",
      "text/plain": [
       "<Figure size 640x480 with 1 Axes>"
      ]
     },
     "metadata": {},
     "output_type": "display_data"
    }
   ],
   "source": [
    "plt.plot(new_y_train, label='Actual close')\n",
    "plt.plot(train_predictions, label='predicted close')\n",
    "plt.xlabel('Day')\n",
    "plt.ylabel('Close')\n",
    "plt.legend()\n",
    "plt.show()"
   ]
  },
  {
   "cell_type": "code",
   "execution_count": 71,
   "metadata": {},
   "outputs": [
    {
     "data": {
      "text/plain": [
       "array([171.99297315, 171.46998156, 170.46565651, 170.67373041,\n",
       "       171.08731034, 171.07307599, 170.99930302, 171.15238485,\n",
       "       171.16163357, 170.84407576, 170.00767273, 170.19220797,\n",
       "       169.72917741, 168.50416153, 167.30906502, 166.21570439,\n",
       "       165.20403706, 165.04063936, 164.91379743, 164.11253841,\n",
       "       163.82831267, 162.93298241, 161.72535234, 159.5611137 ,\n",
       "       155.99777876, 153.71158378, 151.03798207, 148.61243383,\n",
       "       146.73720091, 145.99641427, 146.74035793, 148.01137284,\n",
       "       149.11025268, 148.3552817 , 151.04682504, 153.27102471,\n",
       "       155.43558016, 157.02013436, 157.98340155, 158.39258502,\n",
       "       158.67757778, 158.51633663, 158.46621903, 157.59542789,\n",
       "       156.57444514, 155.64082498, 153.99306936, 153.63956718,\n",
       "       153.58485302, 153.55080395, 153.27105806, 153.392164  ,\n",
       "       153.12002162, 152.43931829, 150.12286489, 147.82616506,\n",
       "       146.40956623, 146.41130592, 146.20780636, 145.6415559 ,\n",
       "       146.49859069, 148.75610575, 151.42518871, 154.03944634,\n",
       "       156.1962371 , 159.16264074, 161.44611779, 163.00832277,\n",
       "       164.20349154, 165.86221888, 167.22717163, 167.38774025,\n",
       "       166.7543421 , 166.44186442, 167.29659259, 166.60993651,\n",
       "       164.62403024, 162.97833114, 161.19962615, 159.13087606,\n",
       "       157.07347011, 156.31572563, 155.27233809, 154.75052482,\n",
       "       155.45879644, 155.56881949, 154.75582727, 153.19527305,\n",
       "       152.22657557, 150.32435241, 148.19890947, 147.30580246,\n",
       "       143.34609553, 140.15454345, 137.33917624, 135.01106746,\n",
       "       131.37593269, 127.68880167, 122.4963753 , 119.84648176,\n",
       "       116.63129097, 114.08122966, 112.80370063, 112.17149192,\n",
       "       112.73451589, 112.11746696, 111.66027521, 111.79093557,\n",
       "       111.75864287, 110.20251014, 109.69158524, 109.50641637,\n",
       "       111.18058418, 113.74303455, 116.33567942, 119.56455708,\n",
       "       122.21525933, 124.87941779, 126.40456954, 126.93686543,\n",
       "       125.80988094, 123.23454962, 119.22778485, 115.70763374,\n",
       "       113.40316644, 110.54357325, 108.63457196, 107.920053  ,\n",
       "       108.02758601, 109.60975299, 112.12282221, 112.9962618 ,\n",
       "       113.0395568 , 113.21674977, 112.51678476, 112.62908386,\n",
       "       113.14152613, 113.21620507, 114.0583691 , 115.35340066,\n",
       "       115.52768673, 115.52147553, 115.44703003, 114.9634761 ,\n",
       "       115.05014113, 114.88282217, 115.77344192, 118.01078933,\n",
       "       120.72286437, 122.54934421, 123.92868138, 123.51241965,\n",
       "       124.52275581, 125.17066344, 127.90400942, 130.14928827,\n",
       "       132.11287589, 135.19578057, 138.97412038, 141.39742314,\n",
       "       142.85775884, 143.02739276, 144.07668858, 144.54641112,\n",
       "       145.04474132, 145.29758034, 145.94928694, 146.20173689,\n",
       "       146.40659819, 145.71514545, 144.27186207, 142.91306772,\n",
       "       141.67450669, 141.1093345 , 139.52215132, 137.97965544,\n",
       "       136.77339266, 135.67686947, 134.83755953, 133.91304357,\n",
       "       132.57654285, 132.62115235, 132.80966443, 133.78454532,\n",
       "       135.41575718, 134.88529825, 134.8701079 , 134.50351634,\n",
       "       133.33443184, 132.40939898, 130.68604178, 128.14081603,\n",
       "       126.46613131, 124.01526027, 122.33471451, 120.90839174,\n",
       "       120.25583197, 119.18302806, 118.22980161, 118.16925698,\n",
       "       119.66493956, 120.77535529, 121.6926707 , 120.87801938,\n",
       "       120.38457477, 119.85847341, 119.21285851, 117.92377691,\n",
       "       115.50126619, 114.91011256, 115.56061305, 115.91300083,\n",
       "       116.43951072, 117.75570483, 119.09849457, 121.13804783,\n",
       "       121.0932299 , 119.77821133, 117.1264725 , 114.6078785 ,\n",
       "       110.67320813, 106.1573693 , 101.43331137,  98.06583079,\n",
       "        95.31569234,  93.57545511,  91.2013876 ,  91.68221666,\n",
       "        93.35496298,  94.73415009,  95.87514105,  96.6338707 ,\n",
       "        96.9559292 ,  97.86477681,  97.14767055,  96.09577491,\n",
       "        95.597592  ,  94.86777848,  94.47601834,  94.07374224,\n",
       "        94.59415764,  95.05148418,  95.11570412,  94.44613371,\n",
       "        93.45482995,  92.5694529 ,  92.42458042,  91.45328174,\n",
       "        90.91471768,  90.85376452,  90.91850832,  90.73669099,\n",
       "        90.52988852,  89.55179781,  88.96943018,  88.6004917 ,\n",
       "        87.37836187,  86.57552434,  85.78214951,  84.84665904,\n",
       "        84.84668127,  84.77920287,  84.75144422,  84.97639952,\n",
       "        84.5495051 ,  85.01238142,  85.87868855,  86.81602571,\n",
       "        88.69473662,  90.13059713,  92.05417737,  93.73878612,\n",
       "        94.88296188,  95.52826692,  96.67615273,  97.10181742,\n",
       "        97.25062366,  97.16459086,  97.74520352,  98.92566132,\n",
       "        99.90867097, 100.90867736, 102.19139073, 105.17745275,\n",
       "       105.72851008, 105.83876657, 105.61195902, 105.24925814,\n",
       "       104.27608429, 103.12317393, 101.36692376, 100.9276903 ,\n",
       "       100.94665045, 100.28554367,  99.74387679,  98.96703738,\n",
       "        98.66792142,  98.15798031,  97.20989234,  96.16629082,\n",
       "        95.66051273,  94.84807216,  94.47247365,  94.5210975 ,\n",
       "        94.24545628,  94.2468472 ,  94.29665076,  93.91093648,\n",
       "        93.55138705,  93.6514152 ,  93.83040205,  94.34773547,\n",
       "        95.5754665 ,  96.35169452,  97.01049885,  98.48036951,\n",
       "        99.26717463,  99.73515192,  99.95266907,  99.64359991,\n",
       "        99.32217921,  99.85436116, 100.26648904, 101.11307455,\n",
       "       101.67298598, 102.59641393])"
      ]
     },
     "execution_count": 71,
     "metadata": {},
     "output_type": "execute_result"
    }
   ],
   "source": [
    "test_predictions = model(X_test.to(device)).detach().cpu().numpy().flatten()\n",
    "dummiies = np.zeros((X_test.shape[0], lookback+1))\n",
    "dummiies[:,0] = test_predictions\n",
    "dummiies = scaler.inverse_transform(dummiies)\n",
    "\n",
    "test_predictions = dc(dummiies[:,0])\n",
    "test_predictions"
   ]
  },
  {
   "cell_type": "code",
   "execution_count": 72,
   "metadata": {},
   "outputs": [
    {
     "name": "stderr",
     "output_type": "stream",
     "text": [
      "/var/folders/d7/80fz355j2730tx2lwyv6vf1w0000gn/T/ipykernel_31860/3738545629.py:2: DeprecationWarning: __array__ implementation doesn't accept a copy keyword, so passing copy=False failed. __array__ must implement 'dtype' and 'copy' keyword arguments. To learn more, see the migration guide https://numpy.org/devdocs/numpy_2_0_migration_guide.html#adapting-to-changes-in-the-copy-keyword\n",
      "  dummies[:,0] = y_test.flatten()\n"
     ]
    },
    {
     "data": {
      "text/plain": [
       "array([170.01749949, 167.07899763, 170.41700626, 171.03700377,\n",
       "       171.0684961 , 169.66949429, 170.66099675, 169.20100565,\n",
       "       168.64449858, 166.71699707, 170.40449492, 167.52200227,\n",
       "       164.35699578, 163.25399737, 162.55400179, 161.48599177,\n",
       "       165.36199892, 165.20699954, 161.21400501, 162.13799851,\n",
       "       158.91749416, 156.29899568, 151.66749509, 142.64300408,\n",
       "       144.54400445, 139.98599336, 138.87249844, 139.63749627,\n",
       "       143.97799855, 149.57350001, 151.19349835, 150.61250219,\n",
       "       138.84550541, 157.63949825, 157.93550165, 161.41349717,\n",
       "       161.18949925, 159.003495  , 153.29350176, 155.1670061 ,\n",
       "       156.51049894, 158.10049453, 154.6524962 , 152.60149876,\n",
       "       150.19749381, 144.82699629, 151.35800212, 153.78849709,\n",
       "       153.56300403, 151.14199678, 152.05250627, 147.89849848,\n",
       "       145.64100565, 137.45300383, 136.01449488, 139.27900567,\n",
       "       146.81750468, 145.52450739, 141.8529947 , 147.36650272,\n",
       "       153.10400311, 157.23899657, 161.25050521, 161.49149987,\n",
       "       164.8890082 , 163.4080074 , 163.64950785, 164.77349929,\n",
       "       168.99049174, 169.31500275, 166.30099379, 162.99749555,\n",
       "       163.55999984, 168.34649425, 164.05499516, 158.75599734,\n",
       "       157.78449856, 154.4604964 , 151.1219931 , 150.78750525,\n",
       "       155.54100108, 151.70649644, 152.78500575, 158.11549591,\n",
       "       153.99799942, 148.29600432, 144.35000372, 146.07400567,\n",
       "       139.39100462, 138.16700588, 144.59649537, 124.2815027 ,\n",
       "       124.50000086, 124.25350088, 125.92849685, 116.40699847,\n",
       "       114.77249899, 108.78900163, 108.85900063, 105.37200234,\n",
       "       106.93049589, 113.05500005, 110.81050072, 115.36850069,\n",
       "       107.11250358, 107.31900035, 107.59100239, 107.55699918,\n",
       "       104.09999809, 106.77500184, 111.07749906, 115.14649953,\n",
       "       120.20950223, 121.68399725, 125.51100121, 122.34999935,\n",
       "       124.79000149, 122.99999961, 121.18000054, 116.15000198,\n",
       "       109.65000214, 103.66999806, 102.30999829, 107.6699986 ,\n",
       "       103.66000386, 106.22000101, 108.67999989, 108.94999683,\n",
       "       112.44000207, 116.45999935, 113.22000127, 107.40000166,\n",
       "       108.91999825, 106.20999917, 109.55999806, 113.50000006,\n",
       "       114.33000152, 116.3300018 , 115.54000075, 111.74999999,\n",
       "       109.22000073, 110.40000137, 110.62999651, 113.55000232,\n",
       "       113.76000211, 118.20999802, 122.76999614, 124.62999702,\n",
       "       122.41999835, 121.13999873, 114.80999825, 120.97000076,\n",
       "       122.28000035, 134.94999758, 135.38999806, 134.16000488,\n",
       "       139.5200031 , 142.57000925, 140.80000272, 139.41000507,\n",
       "       137.83000298, 142.69000357, 140.64000103, 143.55000084,\n",
       "       143.17999102, 144.7799968 , 142.10000324, 142.30000119,\n",
       "       138.22999608, 133.22000121, 133.61999431, 133.80000247,\n",
       "       137.27999891, 130.7499991 , 129.78999174, 128.72999653,\n",
       "       126.76999668, 127.82000117, 127.51000241, 126.11000014,\n",
       "       129.47999576, 129.82000839, 133.27000486, 136.44999605,\n",
       "       126.82000034, 128.55000227, 126.27999811, 123.52999999,\n",
       "       124.66000532, 122.19000322, 118.54000046, 117.30999894,\n",
       "       113.77999884, 115.15000254, 114.41000376, 118.01000286,\n",
       "       114.80000336, 112.99999964, 115.8799967 , 121.08999508,\n",
       "       120.94999707, 120.30000237, 114.55999805, 113.66999803,\n",
       "       112.2099986 , 112.90000206, 112.5299992 , 106.90000263,\n",
       "       113.79000069, 116.36000038, 115.0700003 , 115.25000012,\n",
       "       119.31999967, 119.82000008, 120.59999928, 115.66000341,\n",
       "       110.95999895, 103.41000365, 102.4400021 ,  96.79000116,\n",
       "        92.12000301,  89.30000302,  90.98000304,  90.52999899,\n",
       "        89.98000291,  86.13999884,  96.62999704, 100.79000101,\n",
       "        98.48999791,  98.94000197,  97.1200029 ,  94.84999805,\n",
       "        94.13999897,  92.45999904,  93.199997  ,  94.12999696,\n",
       "        93.410004  ,  93.94999701,  92.41999801,  96.54000095,\n",
       "        95.50000004,  94.12999696,  91.01000197,  88.24999993,\n",
       "        88.45999902,  90.34999813,  89.08999594,  90.55000302,\n",
       "        92.48999797,  91.58000208,  88.44999683,  87.86000102,\n",
       "        84.91999777,  85.19000167,  86.76999681,  83.79000078,\n",
       "        85.25000022,  83.04000085,  81.81999979,  84.17999969,\n",
       "        83.99999987,  85.82000033,  85.13999871,  83.12000309,\n",
       "        86.08000168,  87.3600013 ,  89.87000314,  95.08999606,\n",
       "        95.26999692,  98.12000304,  96.05000307,  95.45999893,\n",
       "        93.68      ,  97.25000011,  97.51999705,  96.32000002,\n",
       "        97.18000006,  99.22000076, 102.2399979 , 100.55000334,\n",
       "       103.12999722, 105.15000257, 112.9100039 , 103.38999927,\n",
       "       102.18000005, 102.11000105, 100.05000292,  98.23999805,\n",
       "        97.61000113,  99.54000066,  99.69999679, 101.16000387,\n",
       "        98.15000197,  97.19999715,  94.58000197,  95.79000102,\n",
       "        95.81999995,  93.5       ,  93.760002  ,  94.23000296,\n",
       "        92.16999798,  92.12999703,  94.90000205,  93.74999998,\n",
       "        93.55000299,  93.919998  ,  92.25000004,  90.73000301,\n",
       "        92.43000003,  94.87999697,  96.19999701, 100.04000108,\n",
       "        98.94999687,  97.70999906, 100.61000119,  98.69999701,\n",
       "        98.70999885,  98.12999689,  98.04000115,  97.23999792,\n",
       "       100.25000017, 102.00000023, 103.290001  , 102.41000421,\n",
       "       103.94999685, 101.09999768])"
      ]
     },
     "execution_count": 72,
     "metadata": {},
     "output_type": "execute_result"
    }
   ],
   "source": [
    "dummies = np.zeros((X_test.shape[0], lookback+1))\n",
    "dummies[:,0] = y_test.flatten()\n",
    "dummies = scaler.inverse_transform(dummies)\n",
    "\n",
    "new_y_test = dc(dummies[:,0])\n",
    "new_y_test"
   ]
  },
  {
   "cell_type": "code",
   "execution_count": 73,
   "metadata": {},
   "outputs": [
    {
     "data": {
      "image/png": "[encoded data removed]",
      "text/plain": [
       "<Figure size 640x480 with 1 Axes>"
      ]
     },
     "metadata": {},
     "output_type": "display_data"
    }
   ],
   "source": [
    "plt.plot(new_y_test, label='Actual close')\n",
    "plt.plot(test_predictions, label='predicted close')\n",
    "plt.xlabel('Day')\n",
    "plt.ylabel('Close')\n",
    "plt.legend()\n",
    "plt.show()"
   ]
  }
 ],
 "metadata": {
  "kernelspec": {
   "display_name": ".venv",
   "language": "python",
   "name": "python3"
  },
  "language_info": {
   "codemirror_mode": {
    "name": "ipython",
    "version": 3
   },
   "file_extension": ".py",
   "mimetype": "text/x-python",
   "name": "python",
   "nbconvert_exporter": "python",
   "pygments_lexer": "ipython3",
   "version": "3.12.4"
  }
 },
 "nbformat": 4,
 "nbformat_minor": 2
}
